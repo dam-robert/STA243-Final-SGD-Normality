{
 "cells": [
  {
   "cell_type": "code",
   "execution_count": 15,
   "id": "86940b6a",
   "metadata": {},
   "outputs": [],
   "source": [
    "import numpy as np\n",
    "import matplotlib.pyplot as plt\n",
    "import seaborn as sns\n",
    "\n",
    "plt.rcParams['text.usetex'] = True"
   ]
  },
  {
   "cell_type": "code",
   "execution_count": 9,
   "id": "45f0a36c",
   "metadata": {},
   "outputs": [],
   "source": [
    "errors = np.random.normal(0,1,300)\n",
    "x = np.random.uniform(0,10,300)\n",
    "y = 5*x + errors"
   ]
  },
  {
   "cell_type": "code",
   "execution_count": 31,
   "id": "17136e57",
   "metadata": {},
   "outputs": [],
   "source": [
    "def sgd_avg(base_rate,alpha):\n",
    "    averaged_iterates = np.zeros(1000)\n",
    "    for j in range(1000):\n",
    "        beta_iterates = np.zeros(500)\n",
    "        beta_t = 10\n",
    "        for i in range(500):\n",
    "            rand_id = np.random.randint(300)\n",
    "            grad = 2 * x[rand_id] * (x[rand_id]*beta_t - y[rand_id])\n",
    "            eta = base_rate * ((i+1)**(-alpha))\n",
    "            beta_t -= eta * grad\n",
    "            beta_iterates[i] = beta_t\n",
    "        averaged_iterates[j] = np.mean(beta_iterates)\n",
    "    return averaged_iterates"
   ]
  },
  {
   "cell_type": "code",
   "execution_count": 121,
   "id": "314215b6",
   "metadata": {},
   "outputs": [],
   "source": [
    "normal_decay = sgd_avg(0.01,0.65)"
   ]
  },
  {
   "cell_type": "code",
   "execution_count": 122,
   "id": "af7eac10",
   "metadata": {},
   "outputs": [
    {
     "data": {
      "text/plain": [
       "4.999592948439222"
      ]
     },
     "execution_count": 122,
     "metadata": {},
     "output_type": "execute_result"
    }
   ],
   "source": [
    "np.mean(normal_decay)"
   ]
  },
  {
   "cell_type": "code",
   "execution_count": 191,
   "id": "87dff7dc",
   "metadata": {
    "scrolled": true
   },
   "outputs": [
    {
     "data": {
      "image/png": "[encoded data removed]",
      "text/plain": [
       "<Figure size 432x288 with 1 Axes>"
      ]
     },
     "metadata": {
      "needs_background": "light"
     },
     "output_type": "display_data"
    }
   ],
   "source": [
    "sns.histplot(normal_decay,binrange=(4.85,5.15))\n",
    "plt.title(r'$\\gamma=0.01$, $\\alpha=0.65$',fontsize=22,fontweight=\"bold\")\n",
    "plt.savefig('gam1_alph65.png')"
   ]
  },
  {
   "cell_type": "code",
   "execution_count": 116,
   "id": "d9b9c2eb",
   "metadata": {},
   "outputs": [],
   "source": [
    "slow_decay = sgd_avg(0.01,0.1)"
   ]
  },
  {
   "cell_type": "code",
   "execution_count": 117,
   "id": "2b30429c",
   "metadata": {},
   "outputs": [
    {
     "data": {
      "text/plain": [
       "4.991907522611544"
      ]
     },
     "execution_count": 117,
     "metadata": {},
     "output_type": "execute_result"
    }
   ],
   "source": [
    "np.mean(slow_decay_low_base)"
   ]
  },
  {
   "cell_type": "code",
   "execution_count": 192,
   "id": "4051f3d8",
   "metadata": {},
   "outputs": [
    {
     "data": {
      "image/png": "[encoded data removed]",
      "text/plain": [
       "<Figure size 432x288 with 1 Axes>"
      ]
     },
     "metadata": {
      "needs_background": "light"
     },
     "output_type": "display_data"
    }
   ],
   "source": [
    "sns.histplot(slow_decay_low_base,binrange=(4.85,5.15))\n",
    "plt.title(r'$\\gamma=0.01$, $\\alpha=0.1$',fontsize=22,fontweight=\"bold\")\n",
    "plt.savefig('gam1_alph1.png')"
   ]
  },
  {
   "cell_type": "code",
   "execution_count": 126,
   "id": "ce9c74af",
   "metadata": {},
   "outputs": [],
   "source": [
    "normal_decay_high_base = sgd_avg(0.03,0.65)"
   ]
  },
  {
   "cell_type": "code",
   "execution_count": 127,
   "id": "7336ab2b",
   "metadata": {},
   "outputs": [
    {
     "data": {
      "text/plain": [
       "4.978674174310749"
      ]
     },
     "execution_count": 127,
     "metadata": {},
     "output_type": "execute_result"
    }
   ],
   "source": [
    "np.mean(normal_decay_high_base)"
   ]
  },
  {
   "cell_type": "code",
   "execution_count": 193,
   "id": "a4931d65",
   "metadata": {},
   "outputs": [
    {
     "data": {
      "image/png": "[encoded data removed]",
      "text/plain": [
       "<Figure size 432x288 with 1 Axes>"
      ]
     },
     "metadata": {
      "needs_background": "light"
     },
     "output_type": "display_data"
    }
   ],
   "source": [
    "sns.histplot(normal_decay_high_base,binrange=(4.5,5.5))\n",
    "plt.title(r'$\\gamma=0.03$, $\\alpha=0.65$',fontsize=22,fontweight=\"bold\")\n",
    "plt.savefig('gam3_alph65.png')"
   ]
  },
  {
   "cell_type": "code",
   "execution_count": 89,
   "id": "621a7c11",
   "metadata": {},
   "outputs": [],
   "source": [
    "slow_decay_high_base = sgd_avg(0.03,0.1)"
   ]
  },
  {
   "cell_type": "code",
   "execution_count": 194,
   "id": "14aee2a9",
   "metadata": {},
   "outputs": [
    {
     "data": {
      "image/png": "[encoded data removed]",
      "text/plain": [
       "<Figure size 432x288 with 1 Axes>"
      ]
     },
     "metadata": {
      "needs_background": "light"
     },
     "output_type": "display_data"
    }
   ],
   "source": [
    "sns.histplot(slow_decay_high_base, binrange=(4.5,5.5))\n",
    "plt.title(r'$\\gamma=0.03$, $\\alpha=0.1$',fontsize=22,fontweight=\"bold\")\n",
    "plt.savefig('gam3_alph1.png')"
   ]
  },
  {
   "cell_type": "code",
   "execution_count": 156,
   "id": "ad1d8886",
   "metadata": {},
   "outputs": [],
   "source": [
    "fast_decay = sgd_avg(0.01,1.5)"
   ]
  },
  {
   "cell_type": "code",
   "execution_count": 195,
   "id": "ea97bb33",
   "metadata": {},
   "outputs": [
    {
     "data": {
      "image/png": "[encoded data removed]",
      "text/plain": [
       "<Figure size 432x288 with 1 Axes>"
      ]
     },
     "metadata": {
      "needs_background": "light"
     },
     "output_type": "display_data"
    }
   ],
   "source": [
    "sns.histplot(fast_decay)\n",
    "plt.title(r'$\\gamma=0.01$, $\\alpha=1.5$',fontsize=22,fontweight=\"bold\")\n",
    "plt.savefig('gam1_alph150.png')"
   ]
  },
  {
   "cell_type": "code",
   "execution_count": 158,
   "id": "e9d4f5ee",
   "metadata": {},
   "outputs": [],
   "source": [
    "fast_decay_high_base = sgd_avg(0.03,1.5)"
   ]
  },
  {
   "cell_type": "code",
   "execution_count": 162,
   "id": "3687fc2c",
   "metadata": {},
   "outputs": [
    {
     "data": {
      "text/plain": [
       "4.799543242509735"
      ]
     },
     "execution_count": 162,
     "metadata": {},
     "output_type": "execute_result"
    }
   ],
   "source": [
    "np.mean(fast_decay_high_base)"
   ]
  },
  {
   "cell_type": "code",
   "execution_count": 196,
   "id": "693d5fb4",
   "metadata": {},
   "outputs": [
    {
     "data": {
      "image/png": "[encoded data removed]",
      "text/plain": [
       "<Figure size 432x288 with 1 Axes>"
      ]
     },
     "metadata": {
      "needs_background": "light"
     },
     "output_type": "display_data"
    }
   ],
   "source": [
    "sns.histplot(fast_decay_high_base,binrange=(0,9))\n",
    "plt.title(r'$\\gamma=0.03$, $\\alpha=1.5$',fontsize=22,fontweight=\"bold\")\n",
    "plt.savefig('gam3_alph150.png')"
   ]
  }
 ],
 "metadata": {
  "kernelspec": {
   "display_name": "Python 3 (ipykernel)",
   "language": "python",
   "name": "python3"
  },
  "language_info": {
   "codemirror_mode": {
    "name": "ipython",
    "version": 3
   },
   "file_extension": ".py",
   "mimetype": "text/x-python",
   "name": "python",
   "nbconvert_exporter": "python",
   "pygments_lexer": "ipython3",
   "version": "3.9.7"
  }
 },
 "nbformat": 4,
 "nbformat_minor": 5
}
